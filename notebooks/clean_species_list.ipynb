{
 "cells": [
  {
   "cell_type": "markdown",
   "metadata": {},
   "source": [
    "# Clean species list\n",
    "This notebook is used to read in the original 2021 European Red Species List XLSX data and clean it by removing any unnecessary columns and rows. The cleaned data is then saved as a CSV file.\n",
    "\n",
    "The original data Excel file was downloaded from the European Red List of Birds 2021 website (see [link](https://www.iucnredlist.org/resources/erlob))."
   ]
  },
  {
   "cell_type": "markdown",
   "metadata": {},
   "source": [
    "## Setup"
   ]
  },
  {
   "cell_type": "code",
   "execution_count": 1,
   "metadata": {},
   "outputs": [],
   "source": [
    "import pandas as pd"
   ]
  },
  {
   "cell_type": "code",
   "execution_count": 2,
   "metadata": {},
   "outputs": [],
   "source": [
    "raw_species_list_path = (\n",
    "    \"/workspaces/chirpnet/resources/raw_species_list/ERLoB2021_categories.xlsx\"\n",
    ")\n",
    "cleaned_species_list_path = (\n",
    "    \"/workspaces/chirpnet/resources/species_list/european_species_list.csv\"\n",
    ")"
   ]
  },
  {
   "cell_type": "markdown",
   "metadata": {},
   "source": [
    "## Clean data"
   ]
  },
  {
   "cell_type": "code",
   "execution_count": 3,
   "metadata": {},
   "outputs": [],
   "source": [
    "# The raw 2021 European Red List species list has the information on the species on\n",
    "# sheet \"2021_European Red List\" of the excel file with the first two rows containing\n",
    "# unneeded clarifications.\n",
    "species_list = pd.read_excel(  # type: ignore\n",
    "    raw_species_list_path,\n",
    "    sheet_name=\"2021_European Red List\",\n",
    "    skiprows=2,\n",
    ")\n",
    "\n",
    "# We only need the common name and scientific name columns for further processing\n",
    "species_list = species_list[[\"Common Name\", \"Scientific Name\"]]\n",
    "\n",
    "species_list = species_list.sort_values(\"Common Name\", ignore_index=True)  # type: ignore"
   ]
  },
  {
   "cell_type": "markdown",
   "metadata": {},
   "source": [
    "## Store results"
   ]
  },
  {
   "cell_type": "code",
   "execution_count": 4,
   "metadata": {},
   "outputs": [],
   "source": [
    "species_list.to_csv(cleaned_species_list_path, index=False)"
   ]
  }
 ],
 "metadata": {
  "kernelspec": {
   "display_name": "chirpnet-QpbwKKZC-py3.10",
   "language": "python",
   "name": "python3"
  },
  "language_info": {
   "codemirror_mode": {
    "name": "ipython",
    "version": 3
   },
   "file_extension": ".py",
   "mimetype": "text/x-python",
   "name": "python",
   "nbconvert_exporter": "python",
   "pygments_lexer": "ipython3",
   "version": "3.10.15"
  }
 },
 "nbformat": 4,
 "nbformat_minor": 2
}
