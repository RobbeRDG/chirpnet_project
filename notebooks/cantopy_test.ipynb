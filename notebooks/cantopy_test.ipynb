{
 "cells": [
  {
   "cell_type": "code",
   "execution_count": 1,
   "metadata": {},
   "outputs": [],
   "source": [
    "from chirpnet.data import ChirpNetDownloader"
   ]
  },
  {
   "cell_type": "code",
   "execution_count": 2,
   "metadata": {},
   "outputs": [],
   "source": [
    "downloader_base_path = \"/workspaces/chirpnet/data/chirpnet_downloader_data\"\n",
    "species_list_path = (\n",
    "    \"/workspaces/chirpnet/resources/species_list/european_species_list_short.csv\"\n",
    ")\n",
    "recorded_year = 2023\n",
    "quality = \"A\"\n",
    "max_pages = 100"
   ]
  },
  {
   "cell_type": "code",
   "execution_count": 4,
   "metadata": {},
   "outputs": [
    {
     "name": "stdout",
     "output_type": "stream",
     "text": [
      "Initializing download manager ...\n",
      "Initializing metadata folder ...\n",
      "Metadata folder already exists. Skipping initialization.\n",
      "Downloading data for 0 species ...\n",
      "Download complete.\n"
     ]
    }
   ],
   "source": [
    "ChirpNetDownloader.download_species_data(\n",
    "    species_list_path, recorded_year, quality, max_pages, downloader_base_path\n",
    ")"
   ]
  }
 ],
 "metadata": {
  "kernelspec": {
   "display_name": "chirpnet-QpbwKKZC-py3.10",
   "language": "python",
   "name": "python3"
  },
  "language_info": {
   "codemirror_mode": {
    "name": "ipython",
    "version": 3
   },
   "file_extension": ".py",
   "mimetype": "text/x-python",
   "name": "python",
   "nbconvert_exporter": "python",
   "pygments_lexer": "ipython3",
   "version": "3.10.15"
  }
 },
 "nbformat": 4,
 "nbformat_minor": 2
}
